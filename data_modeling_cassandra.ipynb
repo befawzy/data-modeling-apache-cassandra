{
 "cells": [
  {
   "cell_type": "code",
   "execution_count": null,
   "metadata": {},
   "outputs": [],
   "source": [
    "import os\n",
    "import glob\n",
    "import csv\n",
    "from cassandra.cluster import Cluster"
   ]
  },
  {
   "cell_type": "code",
   "execution_count": null,
   "metadata": {},
   "outputs": [],
   "source": [
    "events_file_path = os.getcwd() + '/event_data'\n",
    "\n",
    "events_files = glob.glob(os.path.join(events_file_path, '*'))"
   ]
  },
  {
   "cell_type": "code",
   "execution_count": null,
   "metadata": {},
   "outputs": [],
   "source": [
    "def read_events_files(files):\n",
    "    all_rows = []\n",
    "\n",
    "    for file in files:\n",
    "        with open(file, \"r\", encoding=\"utf8\", newline=\"\") as csvfile:\n",
    "            csv_reader = csv.reader(csvfile)\n",
    "            next(csv_reader)\n",
    "            for row in csv_reader:\n",
    "                all_rows.append(row)\n",
    "\n",
    "    return all_rows\n",
    "\n",
    "\n",
    "def events_preprocessing(all_rows):\n",
    "    \"\"\"this function create a new csv file for denormalized events data. The file should be smaller in size that the raw data file\"\"\"\n",
    "    csv.register_dialect(\n",
    "        \"myDialect\", quoting=csv.QUOTE_ALL, skipinitialspace=True)\n",
    "\n",
    "    with open(\"event_datafile_new.csv\", \"w\", encoding=\"utf8\", newline=\"\") as f:\n",
    "        writer = csv.writer(f, dialect=\"myDialect\")\n",
    "        column_names = [\n",
    "            \"artist\",\n",
    "            \"firstName\",\n",
    "            \"gender\",\n",
    "            \"itemInSession\",\n",
    "            \"lastName\",\n",
    "            \"length\",\n",
    "            \"level\",\n",
    "            \"location\",\n",
    "            \"sessionId\",\n",
    "            \"song\",\n",
    "            \"userId\",\n",
    "        ]\n",
    "        writer.writerow(column_names)\n",
    "        for row in all_rows:\n",
    "            if row[0] == \"\":\n",
    "                continue\n",
    "            writer.writerow(\n",
    "                (\n",
    "                    row[0],\n",
    "                    row[2],\n",
    "                    row[3],\n",
    "                    row[4],\n",
    "                    row[5],\n",
    "                    row[6],\n",
    "                    row[7],\n",
    "                    row[8],\n",
    "                    row[12],\n",
    "                    row[13],\n",
    "                    row[16],\n",
    "                )\n",
    "            )\n",
    "\n",
    "\n",
    "all_rows = read_events_files(events_files)\n",
    "events_preprocessing(all_rows)"
   ]
  },
  {
   "cell_type": "code",
   "execution_count": null,
   "metadata": {},
   "outputs": [],
   "source": [
    "def create_keyspace():\n",
    "    \"\"\"this method creates cluster and set a new keyspace if it does not exist\"\"\"\n",
    "    cluster = Cluster(['127.0.0.1'])\n",
    "    session = cluster.connect()\n",
    "    try:\n",
    "        session.execute(\"\"\"\n",
    "        CREATE KEYSPACE IF NOT EXISTS sparkify \n",
    "        WITH REPLICATION = \n",
    "        { 'class' : 'SimpleStrategy', 'replication_factor' : 1 }\n",
    "        \"\"\")\n",
    "\n",
    "    except Exception as e:\n",
    "        print(e)\n",
    "    try:\n",
    "        session.set_keyspace('sparkify')\n",
    "    except Exception as e:\n",
    "        print(e)\n",
    "    return session\n",
    "\n",
    "\n",
    "session = create_keyspace()"
   ]
  },
  {
   "cell_type": "code",
   "execution_count": null,
   "metadata": {},
   "outputs": [],
   "source": [
    "def create_table(table_name: str, query: str):\n",
    "    query = \"CREATE TABLE IF NOT EXISTS {} {};\".format(table_name, query)\n",
    "    try:\n",
    "        session.execute(query)\n",
    "    except Exception as e:\n",
    "        print(e)\n",
    "\n",
    "\n",
    "def insert_file_into_table(file_path, session, table_name, query):\n",
    "    with open(file_path, encoding=\"utf8\") as f:\n",
    "        csvreader = csv.reader(f)\n",
    "        next(csvreader)\n",
    "        for row in csvreader:\n",
    "            query = \"INSERT INTO {}({})\".format(table_name, query)\n",
    "            query = query + \" VALUES (%s, %s, %s, %s, %s)\"\n",
    "\n",
    "            session.execute(\n",
    "                query, (int(row[8]), int(row[3]),\n",
    "                        row[0], row[9], float(row[5]))\n",
    "            )"
   ]
  },
  {
   "cell_type": "markdown",
   "metadata": {},
   "source": [
    "### Create sessions table and insert data "
   ]
  },
  {
   "cell_type": "code",
   "execution_count": null,
   "metadata": {},
   "outputs": [],
   "source": [
    "table_name = \"sessions\"\n",
    "create_query = \"(sessionId int, itemInSession int, artist_name text, song text, song_length float, PRIMARY KEY (sessionId, itemInSession))\"\n",
    "file_path = \"event_datafile_new.csv\"\n",
    "insert_query = \"sessionId, itemInSession, artist_name, song, song_length\"\n",
    "create_table(table_name, create_query)\n",
    "insert_file_into_table(file_path, session, table_name, insert_query)"
   ]
  },
  {
   "cell_type": "code",
   "execution_count": null,
   "metadata": {},
   "outputs": [],
   "source": [
    "# test insertion into sessions\n",
    "sessions_test_query = \"select artist_name, song, song_length from sessions WHERE sessionId = 338 and itemInSession = 4\"\n",
    "\n",
    "try:\n",
    "    rows = session.execute(sessions_test_query)\n",
    "except Exception as e:\n",
    "    print(e)\n",
    "\n",
    "for row in rows:\n",
    "    print(row)"
   ]
  },
  {
   "cell_type": "markdown",
   "metadata": {},
   "source": [
    "### Create song_playlist table and insert data "
   ]
  },
  {
   "cell_type": "code",
   "execution_count": null,
   "metadata": {},
   "outputs": [],
   "source": [
    "\n",
    "song_playlist_table = \"song_playlist\"\n",
    "song_playlist_create_query = \"(userid int, sessionid int, iteminsession int, firstname text, lastname text,  artist_name text, song text,\\\n",
    "PRIMARY KEY((userid, sessionid), iteminsession)) WITH CLUSTERING ORDER BY (iteminsession DESC)\"\n",
    "song_playlist_insert_query = \"userid, sessionid, iteminsession, firstname, lastname,  artist_name, song\"\n",
    "create_table(song_playlist_table, song_playlist_create_query)\n",
    "insert_file_into_table(\n",
    "    file_path, session, song_playlist_table, song_playlist_insert_query)"
   ]
  },
  {
   "cell_type": "code",
   "execution_count": null,
   "metadata": {},
   "outputs": [],
   "source": [
    "# test insertion into song_playlist\n",
    "song_playlist_test_query = \"select artist_name, song, firstname,lastname, iteminsession from song_playlist_session where userid=10 and sessionid=182 \"\n",
    "\n",
    "try:\n",
    "    rows = session.execute(song_playlist_test_query)\n",
    "except Exception as e:\n",
    "    print(e)\n",
    "\n",
    "for row in rows:\n",
    "    print(row)"
   ]
  },
  {
   "cell_type": "markdown",
   "metadata": {},
   "source": [
    "### Create users_playlist table and insert data "
   ]
  },
  {
   "cell_type": "code",
   "execution_count": null,
   "metadata": {},
   "outputs": [],
   "source": [
    "users_playlist_table = \"users_playlist\"\n",
    "users_playlist_create_query = \"(song text,  userid int, firstname text, lastname text,  PRIMARY KEY (song, userid)) WITH CLUSTERING ORDER BY (userid DESC)\"\n",
    "users_playlist_insert_query = \"song, userid, firstname, lastname\"\n",
    "create_table(users_playlist_table, users_playlist_create_query)\n",
    "insert_file_into_table(\n",
    "    file_path, session, users_playlist_table, users_playlist_insert_query)"
   ]
  },
  {
   "cell_type": "code",
   "execution_count": null,
   "metadata": {},
   "outputs": [],
   "source": [
    "# test insertion into users_playlist\n",
    "users_playlist_test_query = \"select userid, firstname, lastname from users_playlist where song='All Hands Against His Own'\"\n",
    "\n",
    "try:\n",
    "    rows = session.execute(song_playlist_test_query)\n",
    "except Exception as e:\n",
    "    print(e)\n",
    "\n",
    "for row in rows:\n",
    "    print(row)"
   ]
  },
  {
   "cell_type": "markdown",
   "metadata": {},
   "source": [
    "### Drop Tables"
   ]
  },
  {
   "cell_type": "code",
   "execution_count": null,
   "metadata": {},
   "outputs": [],
   "source": [
    "def drop_table(table_name, session):\n",
    "    query = \"drop table {}\".format(table_name)\n",
    "    try:\n",
    "        _ = session.execute(query)\n",
    "    except Exception as e:\n",
    "        print(e)\n",
    "\n",
    "\n",
    "tables_to_drop = [\"sessions\", \"song_playlist\", \"users_playlist\"]\n",
    "for table in tables_to_drop:\n",
    "    drop_table(table, session)"
   ]
  },
  {
   "cell_type": "code",
   "execution_count": null,
   "metadata": {},
   "outputs": [],
   "source": [
    "session.shutdown()"
   ]
  }
 ],
 "metadata": {
  "kernelspec": {
   "display_name": "DE_nanodegree",
   "language": "python",
   "name": "python3"
  },
  "language_info": {
   "codemirror_mode": {
    "name": "ipython",
    "version": 3
   },
   "file_extension": ".py",
   "mimetype": "text/x-python",
   "name": "python",
   "nbconvert_exporter": "python",
   "pygments_lexer": "ipython3",
   "version": "3.11.5"
  }
 },
 "nbformat": 4,
 "nbformat_minor": 2
}
